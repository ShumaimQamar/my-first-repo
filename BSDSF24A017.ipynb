{
 "cells": [
  {
   "cell_type": "markdown",
   "id": "2e5a7471-2131-4c8f-9a56-c4619e91f463",
   "metadata": {},
   "source": [
    "# Problem 1 – Delivery Path Analyzer"
   ]
  },
  {
   "cell_type": "markdown",
   "id": "2a8dd08f-6a89-4aca-a12b-c4d26c4c176b",
   "metadata": {},
   "source": [
    "You are developing a tracker for a delivery service. Store multiple delivery points with their\n",
    "time and distance. Write a program to find the starting location, ending location, and total\n",
    "distance covered.\n",
    "\n",
    "**Demonstration:**\n",
    "1. Define delivery points\n",
    "2. Get the start and end locations\n",
    "3. Calculate total distance\n",
    "4. Print the results"
   ]
  },
  {
   "cell_type": "code",
   "execution_count": 6,
   "id": "c2e63827-9390-4ff3-b47e-d1eba2f94e7c",
   "metadata": {},
   "outputs": [
    {
     "name": "stdout",
     "output_type": "stream",
     "text": [
      "Start Location:  A\n",
      "End Location:  D\n",
      "Total Distance : 21\n"
     ]
    }
   ],
   "source": [
    "delivery_points = [{\"location\":\"A\",\"time\":\"8:00\",\"distance\":0},\n",
    "    {\"location\":\"B\",\"time\":\"8:30\",\"distance\":7},\n",
    "    {\"location\":\"C\",\"time\":\"9:00\",\"distance\":8},\n",
    "    {\"location\":\"D\",\"time\":\"9:30\",\"distance\":6}]\n",
    "\n",
    "start_location = delivery_points[0][\"location\"]\n",
    "end_location = delivery_points[-1][\"location\"]\n",
    "total_distance = 0\n",
    "for d in delivery_points:\n",
    "    total_distance += d[\"distance\"]\n",
    "\n",
    "print(\"Start Location: \", start_location)\n",
    "print(\"End Location: \", end_location)\n",
    "print(\"Total Distance :\",total_distance)"
   ]
  },
  {
   "cell_type": "markdown",
   "id": "d0f8066e-0448-4ea6-b5c7-8526e1d77c97",
   "metadata": {},
   "source": [
    "# Problem 2 – Shopping Cart Management"
   ]
  },
  {
   "cell_type": "markdown",
   "id": "fe0ffb11-d2e9-4e9e-a9ed-d32c36215f8c",
   "metadata": {},
   "source": [
    "Design a small shopping cart system that allows customers to add, remove, and update\n",
    "items. At the end, display the total price and the most expensive item purchased.\n",
    "\n",
    "**Demonstration:**\n",
    "1. Initialize the cart\n",
    "2. Add a new item\n",
    "3. Delete an item\n",
    "4. Update an item’s price\n",
    "5. Print all item names\n",
    "6. Print all item details\n",
    "7. Calculate total price\n",
    "8. Find the most expensive item"
   ]
  },
  {
   "cell_type": "code",
   "execution_count": 25,
   "id": "b167caa3-3083-43c0-b252-8f521a1e239e",
   "metadata": {},
   "outputs": [
    {
     "name": "stdout",
     "output_type": "stream",
     "text": [
      "Banana\n",
      "Chocolates\n",
      "Bread\n",
      "{'Quantity': 12, 'price': 25}\n",
      "{'Quantity': 5, 'price': 30}\n",
      "{'Quantity': 1, 'price': 100}\n",
      "Total Price 550\n",
      "Most Expensive Item purchased is:  {'Quantity': 1, 'price': 100}\n"
     ]
    }
   ],
   "source": [
    "cart = {\n",
    "    \"Banana\":{\"Quantity\":12,\"price\":20},\n",
    "    \"Chocolates\":{\"Quantity\":5,\"price\":30},\n",
    "    \"Juice\":{\"Quantity\":2,\"price\":40}\n",
    "       }\n",
    "\n",
    "cart[\"Bread\"] = {\"Quantity\":1,\"price\":100}\n",
    "del cart[\"Juice\"]\n",
    "cart[\"Banana\"][\"price\"] = 25\n",
    "for t in cart:\n",
    "    print(t)\n",
    "for t in cart.values():\n",
    "    print(t)\n",
    "    \n",
    "total_price = 0\n",
    "for t in cart.values():\n",
    "    total_price += t[\"Quantity\"] * t[\"price\"]\n",
    "\n",
    "print(\"Total Price\",total_price)\n",
    "\n",
    "most_exp_item = \"\"\n",
    "price = 0\n",
    "for item,t in cart.items():\n",
    "    if t[\"price\"] > price:\n",
    "        price = t[\"price\"]\n",
    "        most_exp_item = t\n",
    "\n",
    "print(\"Most Expensive Item purchased is: \",most_exp_item)"
   ]
  },
  {
   "cell_type": "markdown",
   "id": "c9060077-0f2a-41aa-aefd-f58dc3751e07",
   "metadata": {},
   "source": [
    "# Problem 3 – Student Performance Report"
   ]
  },
  {
   "cell_type": "markdown",
   "id": "9f7c8ab6-cc25-4a61-b995-8c41b73fd323",
   "metadata": {},
   "source": [
    "Build a grade management program that stores students’ marks in multiple subjects.\n",
    "Display each student’s average marks, and find the top 3 performers.\n",
    "\n",
    "**Demonstration:**\n",
    "1. Define student marks\n",
    "2. Create a blank dictionary for averages\n",
    "3. Calculate average marks for each student\n",
    "4. Prepare to find top 3 performers\n",
    "5. Sort students by average in descending order\n",
    "6. Print top 3 students"
   ]
  },
  {
   "cell_type": "code",
   "execution_count": 27,
   "id": "6f176c24-d643-4c7d-84cf-f10e364d8b69",
   "metadata": {},
   "outputs": [
    {
     "name": "stdout",
     "output_type": "stream",
     "text": [
      "Maryam's average = 78.67\n",
      "Mazhar's average = 91.0\n",
      "Alishbah's average = 88.67\n",
      "Aleena's average = 87.67\n",
      "Rafay's average = 89.67\n",
      "\n",
      "Top three performers: \n",
      "Mazhar : 91.0\n",
      "Rafay : 89.67\n",
      "Alishbah : 88.67\n"
     ]
    }
   ],
   "source": [
    "students = {\n",
    "    \"Maryam\": {\"DSA\": 75, \"IDS\": 80, \"LA\": 81},\n",
    "    \"Mazhar\": {\"DSA\": 88, \"IDS\": 92, \"LA\": 93},\n",
    "    \"Alishbah\": {\"DSA\": 87, \"IDS\": 89, \"LA\": 90},\n",
    "    \"Aleena\": {\"DSA\": 85, \"IDS\": 87, \"LA\": 91},\n",
    "    \"Rafay\": {\"DSA\": 88, \"IDS\": 90, \"LA\": 91}\n",
    "}\n",
    "\n",
    "avgs={} #create the blank dictionary\n",
    "for name,marks in students.items():\n",
    "    average = sum(marks.values())/len(marks)\n",
    "    avgs[name] = average\n",
    "    print(name + \"'s average =\", round(average,2)) #round function rounds off the average value to two floating digits\n",
    "\n",
    "\n",
    "print(\"\\nTop three performers: \")\n",
    "def get_average(item):\n",
    "    return item[1]\n",
    "top3 = sorted(avgs.items(), key=get_average, reverse=True)[:3] #top three students will be stored in top3 as a tuple\n",
    "\n",
    "for item in top3:\n",
    "    print(item[0], \":\", round(item[1], 2)) #0 is accessing the student name and 1 index is accessing the average value"
   ]
  },
  {
   "cell_type": "markdown",
   "id": "c97666d4-6bd3-4e1b-b763-b3d94cf2d66e",
   "metadata": {},
   "source": [
    "# Problem 4 – Email Data Processor"
   ]
  },
  {
   "cell_type": "markdown",
   "id": "0385b3a7-1f89-4776-b443-fafea9a072fa",
   "metadata": {},
   "source": [
    "Create an email management system that processes a list of email addresses. It should\n",
    "validate formats, extract domains, and count how many users belong to each domain.\n",
    "\n",
    "**Demonstration:**\n",
    "1. List of emails\n",
    "2. Create a dictionary to store domains\n",
    "3. Loop through each email\n",
    "4. Print the users per domain"
   ]
  },
  {
   "cell_type": "code",
   "execution_count": 35,
   "id": "dea8a426-4856-41fe-a879-ed2643532afa",
   "metadata": {},
   "outputs": [
    {
     "name": "stdout",
     "output_type": "stream",
     "text": [
      "sara.com → invalid email\n",
      "\n",
      "Users per domain:\n",
      "gmail.com : 3\n",
      "yahoo.com : 2\n",
      "outlook.com : 1\n"
     ]
    }
   ],
   "source": [
    "emails = [\n",
    "    \"ali@gmail.com\",\n",
    "    \"hina@yahoo.com\",\n",
    "    \"sara@gmail.com\",\n",
    "    \"ahmed@outlook.com\",\n",
    "    \"john@gmail.com\",\n",
    "    \"amna@yahoo.com\",\n",
    "    \"sara.com\"\n",
    "]\n",
    "\n",
    "domains = {}\n",
    "\n",
    "for email in emails:\n",
    "    if \"@\" in email and \".\" in email:  \n",
    "        domain = email.split(\"@\")[1]    # [1] is the second part of the list i.e the gmail.com or yahoo.com(domain)\n",
    "        if domain in domains:\n",
    "            domains[domain] += 1\n",
    "        else:\n",
    "            domains[domain] = 1\n",
    "    else:\n",
    "        print(email, \"→ invalid email\")\n",
    "\n",
    "print(\"\\nUsers per domain:\")\n",
    "for d, count in domains.items():\n",
    "    print(d, \":\", count)"
   ]
  },
  {
   "cell_type": "markdown",
   "id": "d343aa0d-96a7-4148-a9d1-bd4a8cb2f6aa",
   "metadata": {},
   "source": [
    "# Problem 5 – Friendship Network Analysis"
   ]
  },
  {
   "cell_type": "markdown",
   "id": "f65e5d8c-5467-4df4-b026-5a0518c08d1b",
   "metadata": {},
   "source": [
    "You are designing a social platform feature to suggest friends. Find mutual friends, unique\n",
    "connections, and friend suggestions between two or more users.\n",
    "\n",
    "**Demonstration:**\n",
    "1. Define friends\n",
    "2. Find mutual friends\n",
    "3. Find unique friends\n",
    "4. Friend suggestions\n",
    "5. Print results"
   ]
  },
  {
   "cell_type": "code",
   "execution_count": 13,
   "id": "c1f194c8-1596-4b8e-9596-ca7c7594e5d4",
   "metadata": {},
   "outputs": [
    {
     "name": "stdout",
     "output_type": "stream",
     "text": [
      "Mutual friends: {'Zainab', 'Alishbah'}\n",
      "Unique friends of Maryam: {'Sara', 'Shumaim'}\n",
      "Unique friends of Shumaim: {'Maryam', 'Aleena'}\n",
      "Friend suggestions for Maryam: {'Sara'}\n",
      "Friend suggestions for Shumaim: {'Aleena'}\n"
     ]
    }
   ],
   "source": [
    "friends = {\n",
    "    \"Maryam\":{\"Alishbah\",\"Shumaim\",\"Sara\",\"Zainab\"},\n",
    "    \"Shumaim\":{\"Alishbah\",\"Maryam\",\"Aleena\", \"Zainab\"}\n",
    "}\n",
    "mutual_friends = friends[\"Maryam\"] & friends[\"Shumaim\"]\n",
    "unique_friend1 = friends[\"Maryam\"] - friends[\"Shumaim\"]\n",
    "unique_friend2 = friends[\"Shumaim\"] - friends[\"Maryam\"]\n",
    "\n",
    "friend_suggestion1 = (friends[\"Maryam\"] - friends[\"Shumaim\"])-{\"Shumaim\"}\n",
    "friend_suggestion2 = (friends[\"Shumaim\"] - friends[\"Maryam\"])-{\"Maryam\"}\n",
    "\n",
    "\n",
    "print(\"Mutual friends:\", mutual_friends)\n",
    "print(\"Unique friends of Maryam:\", unique_friend1)\n",
    "print(\"Unique friends of Shumaim:\", unique_friend2)\n",
    "print(\"Friend suggestions for Maryam:\", friend_suggestion1)\n",
    "print(\"Friend suggestions for Shumaim:\", friend_suggestion2)"
   ]
  },
  {
   "cell_type": "markdown",
   "id": "c73913e4-c078-46d5-846c-fe245f6a1c52",
   "metadata": {},
   "source": [
    "# Problem 6 – Restaurant Billing System"
   ]
  },
  {
   "cell_type": "markdown",
   "id": "e1cd84cb-9dd4-4557-a08f-b7e45237453c",
   "metadata": {},
   "source": [
    "Write a program to calculate a restaurant bill that includes subtotal, tax, tip, and final total.\n",
    "The program should also handle different tip percentages based on service quality.\n",
    "\n",
    "**Demonstration:**\n",
    "1. First subtotal amount is input from the user. As input is always get in string so we have to typecast it into float.\n",
    "2. Tip will be decided on the basis of the service quality. Then calculate the tip.\n",
    "3. Tax is fixed to 10% so just manipilate it with subtotal.\n",
    "4. Lastly, add tax,tip and subtotal to find the final total of the bill."
   ]
  },
  {
   "cell_type": "code",
   "execution_count": 4,
   "id": "c4b85f3a-7eda-4fa1-a671-e76c16cc1840",
   "metadata": {},
   "outputs": [
    {
     "name": "stdin",
     "output_type": "stream",
     "text": [
      "Enter the subtotal:  5000\n"
     ]
    },
    {
     "name": "stdout",
     "output_type": "stream",
     "text": [
      "Service quality?\n",
      "1. Excellent (20%)\n",
      "2. Good (15%)\n",
      "3. Average (10%)\n",
      "4. Poor (5%)\n"
     ]
    },
    {
     "name": "stdin",
     "output_type": "stream",
     "text": [
      "Choose 1-4:  2\n"
     ]
    },
    {
     "name": "stdout",
     "output_type": "stream",
     "text": [
      "\n",
      "--- BILL ---\n",
      "Subtotal: 5000.0\n",
      "Tax: 500.0\n",
      "Tip: 750.0\n",
      "Total: 6250.0\n"
     ]
    }
   ],
   "source": [
    "subtotal = float(input(\"Enter the subtotal: \"))\n",
    "\n",
    "print(\"Service quality?\")\n",
    "print(\"1. Excellent\")\n",
    "print(\"2. Good\")\n",
    "print(\"3. Average\")\n",
    "print(\"4. Poor\")\n",
    "\n",
    "choice = int(input(\"Choose 1-4: \"))\n",
    "\n",
    "if choice == 1:\n",
    "    tip_percent = 20\n",
    "elif choice == 2:\n",
    "    tip_percent = 15\n",
    "elif choice == 3:\n",
    "    tip_percent = 10\n",
    "else:\n",
    "    tip_percent = 5\n",
    "\n",
    "tax = subtotal * 0.10\n",
    "tip = subtotal * (tip_percent / 100)\n",
    "total = subtotal + tax + tip\n",
    "\n",
    "print(\"\\n--- BILL ---\")\n",
    "print(\"Subtotal:\", subtotal)\n",
    "print(\"Tax:\", tax)\n",
    "print(\"Tip:\", tip)\n",
    "print(\"Total:\", total)\n"
   ]
  },
  {
   "cell_type": "markdown",
   "id": "d66c1e88-4ff8-4c3f-bea3-f3b4444a54e4",
   "metadata": {},
   "source": [
    "# Problem 7 – Transport Schedule Tracker"
   ]
  },
  {
   "cell_type": "markdown",
   "id": "55bd84f1-2346-4c5f-a709-df4d9d58b04b",
   "metadata": {},
   "source": [
    "Build a public transport tracking tool where each stop has a name, time, and distance from\n",
    "the start. Find the fastest segment, total route time, and total number of stops.\n",
    "\n",
    "**Demostration:**\n",
    "1. input the number of stops, then input each stops' name, time and distance from the start. And store them in the list.\n",
    "2. Through loop, find the total time and fastest segment by calculationg speed.\n",
    "3. Then print the fastest segment, total route time and total number of steps."
   ]
  },
  {
   "cell_type": "code",
   "execution_count": 8,
   "id": "3f8f8aeb-1aa6-45f3-ab95-cc6ce27be416",
   "metadata": {},
   "outputs": [
    {
     "name": "stdin",
     "output_type": "stream",
     "text": [
      "Enter number of stops:  2\n"
     ]
    },
    {
     "name": "stdout",
     "output_type": "stream",
     "text": [
      "\n",
      "Stop 1\n"
     ]
    },
    {
     "name": "stdin",
     "output_type": "stream",
     "text": [
      "Enter stop name:  thokar\n",
      "Enter time taken from previous stop (minutes):  45\n",
      "Enter distance from start (km):  15\n"
     ]
    },
    {
     "name": "stdout",
     "output_type": "stream",
     "text": [
      "\n",
      "Stop 2\n"
     ]
    },
    {
     "name": "stdin",
     "output_type": "stream",
     "text": [
      "Enter stop name:  xyz colony\n",
      "Enter time taken from previous stop (minutes):  36\n",
      "Enter distance from start (km):  11\n"
     ]
    },
    {
     "name": "stdout",
     "output_type": "stream",
     "text": [
      "\n",
      "Total stops: 2\n",
      "Total time: 81.0 minutes\n",
      "Fastest segment ends at: thokar\n"
     ]
    }
   ],
   "source": [
    "n = int(input(\"Enter number of stops: \"))\n",
    "stops = []\n",
    "for i in range(n):\n",
    "    print(\"\\nStop\", i + 1)\n",
    "    name = input(\"Enter stop name: \")\n",
    "    time = float(input(\"Enter time taken from previous stop (minutes): \"))\n",
    "    distance = float(input(\"Enter distance from start (km): \"))\n",
    "    stop = {\n",
    "        \"name\": name,\n",
    "        \"time\": time,\n",
    "        \"distance\": distance\n",
    "    }\n",
    "    stops.append(stop)\n",
    "\n",
    "total_time = 0\n",
    "for stop in stops:\n",
    "    total_time += stop[\"time\"]\n",
    "\n",
    "fastest_speed = 0\n",
    "fastest_stop = \"\"\n",
    "\n",
    "for stop in stops:\n",
    "    if stop[\"time\"] > 0:\n",
    "        speed = stop[\"distance\"] / stop[\"time\"]\n",
    "        if speed > fastest_speed:\n",
    "            fastest_speed = speed\n",
    "            fastest_stop = stop[\"name\"]\n",
    "\n",
    "print(\"\\nTotal stops:\", n)\n",
    "print(\"Total time:\", total_time, \"minutes\")\n",
    "print(\"Fastest segment ends at:\", fastest_stop)\n"
   ]
  },
  {
   "cell_type": "markdown",
   "id": "9963edbd-c54c-4500-a4c1-435fd3a93e48",
   "metadata": {},
   "source": [
    "# Problem 8 – Library Catalog System"
   ]
  },
  {
   "cell_type": "markdown",
   "id": "dd998ec8-f179-40db-9b99-2ce3d042f997",
   "metadata": {},
   "source": [
    "Create a library management system that stores book details such as title, author, and\n",
    "category. Find how many books belong to each author and which author has the most\n",
    "books.\n",
    "\n",
    "**Demostration:**\n",
    "1. Use Dictionary data type for storing the book details. Then all the book details will be stored in a list.\n",
    "2. Then count the number of count. make a dictionary with variable name author_count. In loop iterate all the books, if there's already the author of the book in the cuthor count increase the count by one otherwise set the count to 1.\n",
    "3. Then find the most books author. In loop iteration iterate the author count dictionary, if you find the author with the max count store it to the mbooks_author.\n",
    "4. In the last, print how many books belong to each author and which author has the most books"
   ]
  },
  {
   "cell_type": "code",
   "execution_count": 12,
   "id": "f558459f-4cfa-4813-a03a-4a19e941f4b0",
   "metadata": {},
   "outputs": [
    {
     "name": "stdout",
     "output_type": "stream",
     "text": [
      "--- LIBRARY CATALOG SYSTEM------\n",
      "J.R.R. Tolkien has 2 book(s).\n",
      "George Orwell has 2 book(s).\n",
      "F. Scott Fitzgerald has 1 book(s).\n",
      "Author with most books: J.R.R. Tolkien\n"
     ]
    }
   ],
   "source": [
    "books = [\n",
    "    {\"title\": \"The Hobbit\", \"author\": \"J.R.R. Tolkien\", \"category\": \"Fantasy\"},\n",
    "    {\"title\": \"The Silmarillion\", \"author\": \"J.R.R. Tolkien\", \"category\": \"Fantasy\"},\n",
    "    {\"title\": \"1984\", \"author\": \"George Orwell\", \"category\": \"Dystopian\"},\n",
    "    {\"title\": \"Animal Farm\", \"author\": \"George Orwell\", \"category\": \"Satire\"},\n",
    "    {\"title\": \"The Great Gatsby\", \"author\": \"F. Scott Fitzgerald\", \"category\": \"Classic\"}\n",
    "]\n",
    "\n",
    "author_count = {}\n",
    "for book in books:\n",
    "    author = book[\"author\"]\n",
    "    if author in author_count:\n",
    "        author_count[author] += 1\n",
    "    else:\n",
    "        author_count[author] = 1\n",
    "\n",
    "mbooks_author = \"\"\n",
    "mbooks = 0\n",
    "\n",
    "for author in author_count:\n",
    "    if author_count[author] > mbooks:\n",
    "        mbooks = author_count[author]\n",
    "        mbooks_author = author\n",
    "\n",
    "print(\"--- LIBRARY CATALOG SYSTEM------\")\n",
    "for author, count in author_count.items():\n",
    "    print(author, \"has\", count, \"book(s).\")\n",
    "\n",
    "print(\"Author with most books:\", mbooks_author)\n"
   ]
  },
  {
   "cell_type": "markdown",
   "id": "9915167a-ff04-418e-b78e-47ec2bb6c675",
   "metadata": {},
   "source": [
    "# Problem 9 – Sports Tournament Statistics"
   ]
  },
  {
   "cell_type": "markdown",
   "id": "c9d7d308-2e70-4625-9345-240f866f8b28",
   "metadata": {},
   "source": [
    "Develop a program to manage a sports tournament. Track teams, matches, and scores, and\n",
    "generate the winning team, average score, and unique participants.\n",
    "\n",
    "**Demonstration:**\n",
    "1. Store the matches,teams and score in the list of dictionaries.\n",
    "2. Find the winning team by calculating each team scores and then find the team with greatest score.\n",
    "3. Sum each score then divide it with the total teams.\n",
    "4. Then find the unique team by storing the team1 and team2 of each match one by one in the set. As set do not store duplicate, it will not store the same team two times. In this way you can know the total and unique participant.\n",
    "5. At the end, outout the winning team, average score and unique participants."
   ]
  },
  {
   "cell_type": "code",
   "execution_count": 17,
   "id": "20c8a04a-9cc3-45b7-824a-351debaa0bbe",
   "metadata": {},
   "outputs": [
    {
     "name": "stdout",
     "output_type": "stream",
     "text": [
      "--- TOURNAMENT SUMMARY ---\n",
      "Teams: {'Team D', 'Team A', 'Team B', 'Team C'}\n",
      "Winning Team: Team A\n",
      "Average Score per Match: 3.5\n"
     ]
    }
   ],
   "source": [
    "\n",
    "\n",
    "matches = [\n",
    "    {\"team1\": \"Team A\", \"team2\": \"Team B\", \"score1\": 3, \"score2\": 2},\n",
    "    {\"team1\": \"Team C\", \"team2\": \"Team D\", \"score1\": 1, \"score2\": 1},\n",
    "    {\"team1\": \"Team A\", \"team2\": \"Team C\", \"score1\": 2, \"score2\": 0},\n",
    "    {\"team1\": \"Team B\", \"team2\": \"Team D\", \"score1\": 1, \"score2\": 4}\n",
    "]\n",
    "\n",
    "\n",
    "team_scores = {}\n",
    "for match in matches:\n",
    "    t1 = match[\"team1\"]\n",
    "    t2 = match[\"team2\"]\n",
    "    s1 = match[\"score1\"]\n",
    "    s2 = match[\"score2\"]\n",
    "    team_scores[t1] = team_scores.get(t1, 0) + s1 #if team score already exist return its value otherwise return 0\n",
    "    team_scores[t2] = team_scores.get(t2, 0) + s2\n",
    "\n",
    "winner = \"\"\n",
    "highest_score = 0\n",
    "\n",
    "for team in team_scores:\n",
    "    if team_scores[team] > highest_score:\n",
    "        highest_score = team_scores[team]\n",
    "        winner = team\n",
    "\n",
    "total_points = 0\n",
    "for match in matches:\n",
    "    total_points += match[\"score1\"] + match[\"score2\"]\n",
    "average_score = total_points / len(matches)\n",
    "\n",
    "unique_teams = set()\n",
    "for match in matches:\n",
    "    unique_teams.add(match[\"team1\"])\n",
    "    unique_teams.add(match[\"team2\"])\n",
    "\n",
    "print(\"--- TOURNAMENT SUMMARY ---\")\n",
    "print(\"Teams:\", unique_teams)\n",
    "print(\"Winning Team:\", winner)\n",
    "print(\"Average Score per Match:\", average_score)\n"
   ]
  },
  {
   "cell_type": "markdown",
   "id": "981ba97d-cbad-4135-9130-7d10630dc45f",
   "metadata": {},
   "source": [
    "# Problem 10 – Weather Data Analyzer"
   ]
  },
  {
   "cell_type": "markdown",
   "id": "550ae9ed-c531-432e-98ae-e87fdeeefe95",
   "metadata": {},
   "source": [
    "Write a program to manage 30 days of weather data. Find the average temperature, hottest\n",
    "day, and most frequent weather condition.\n",
    "\n",
    "**Demonstration:**\n",
    "1. Store the weather data(date,temprature and condition) in the list.\n",
    "2. calculate the total temprature and divide it with length of the list (i.e. 30 days).\n",
    "3. Find the hottest day by putting max condition in the loop iteration.\n",
    "4. Then find the Mose frequent weather condition by first finding the count of each weather condition and then finding the max count.\n",
    "5. In the end, display the average temp, hottest day and most frequesnt weather condition."
   ]
  },
  {
   "cell_type": "code",
   "execution_count": null,
   "id": "b3be2f84-6081-4b91-9faa-2b088be01381",
   "metadata": {},
   "outputs": [],
   "source": [
    "weather_data = [\n",
    "    [1, 25, \"Sunny\"], [2, 28, \"Cloudy\"], [3, 30, \"Sunny\"], [4, 31, \"Sunny\"],\n",
    "    [5, 29, \"Rainy\"], [6, 27, \"Rainy\"], [7, 26, \"Sunny\"], [8, 32, \"Sunny\"],\n",
    "    [9, 33, \"Sunny\"], [10, 30, \"Cloudy\"], [11, 28, \"Sunny\"], [12, 27, \"Rainy\"],\n",
    "    [13, 26, \"Cloudy\"], [14, 31, \"Sunny\"], [15, 29, \"Sunny\"], [16, 30, \"Sunny\"],\n",
    "    [17, 25, \"Rainy\"], [18, 26, \"Cloudy\"], [19, 27, \"Sunny\"], [20, 29, \"Sunny\"],\n",
    "    [21, 32, \"Sunny\"], [22, 31, \"Cloudy\"], [23, 30, \"Sunny\"], [24, 29, \"Rainy\"],\n",
    "    [25, 28, \"Sunny\"], [26, 26, \"Cloudy\"], [27, 25, \"Rainy\"], [28, 29, \"Sunny\"],\n",
    "    [29, 30, \"Sunny\"], [30, 31, \"Sunny\"]\n",
    "]\n",
    "\n",
    "total_temp = 0\n",
    "for day in weather_data:\n",
    "    total_temp += day[1]\n",
    "average_temp = total_temp / len(weather_data)\n",
    "\n",
    "hottest = weather_data[0]\n",
    "for day in weather_data:\n",
    "    if day[1] > hottest[1]:\n",
    "        hottest = day\n",
    "\n",
    "condition_count = {}\n",
    "for day in weather_data:\n",
    "    condition = day[2]\n",
    "    if condition in condition_count:\n",
    "        condition_count[condition] += 1\n",
    "    else:\n",
    "        condition_count[condition] = 1\n",
    "\n",
    "most_frequent = \"\"\n",
    "highest_count = 0\n",
    "for condition in condition_count:\n",
    "    if condition_count[condition] > highest_count:\n",
    "        highest_count = condition_count[condition]\n",
    "        most_frequent = condition\n",
    "\n",
    "print(\"Average Temperature:\", round(average_temp, 2))\n",
    "print(\"Hottest Day:\", hottest[0], \"with\", hottest[1], \"°C\")\n",
    "print(\"Most Frequent Weather Condition:\", most_frequent)"
   ]
  },
  {
   "cell_type": "markdown",
   "id": "18961fe8-6ff1-4502-9040-b5487c780a68",
   "metadata": {},
   "source": [
    "# Problem 11 – Employee Attendance System"
   ]
  },
  {
   "cell_type": "markdown",
   "id": "b5049799-cb36-41e4-8874-984bba34d6b4",
   "metadata": {},
   "source": [
    "Build a system to track employee attendance for one month. Identify employees with\n",
    "perfect attendance, most absences, and attendance percentage for each employee.\n",
    "\n",
    "**Demonstration:**\n",
    "1. Store the attendance data in a dictionary of list with key=employee name and value=list of present & absents.\n",
    "2. Find the each employee attendace percentage by first finding the total no of presents and then calculating the percentage.\n",
    "3. Then find the employee with most absences and perfect attendace.\n",
    "4. At the end output all the things your found."
   ]
  },
  {
   "cell_type": "code",
   "execution_count": 18,
   "id": "651a1deb-537c-4a51-99ac-72b8ecb908f6",
   "metadata": {},
   "outputs": [
    {
     "name": "stdout",
     "output_type": "stream",
     "text": [
      "--- ATTENDANCE SUMMARY ---\n",
      "Perfect Attendance: ['Hifza']\n",
      "Employee with Most Absences: Aleena ( 21 days )\n",
      "\n",
      "Attendance Percentage for Each Employee:\n",
      "Maryam : 96.67 %\n",
      "Fatima : 76.67 %\n",
      "Hifza : 100.0 %\n",
      "Aleena : 30.0 %\n"
     ]
    }
   ],
   "source": [
    "attendance_data = {\n",
    "    \"Maryam\": ['P', 'P', 'A', 'P', 'P', 'P', 'P', 'P', 'P', 'P',\n",
    "              'P', 'P', 'P', 'P', 'P', 'P', 'P', 'P', 'P', 'P',\n",
    "              'P', 'P', 'P', 'P', 'P', 'P', 'P', 'P', 'P', 'P'],\n",
    "    \"Fatima\": ['P', 'A', 'A', 'P', 'P', 'A', 'P', 'P', 'P', 'A',\n",
    "            'P', 'P', 'A', 'P', 'P', 'P', 'P', 'A', 'P', 'P',\n",
    "            'P', 'P', 'P', 'P', 'A', 'P', 'P', 'P', 'P', 'P'],\n",
    "    \"Hifza\": ['P'] * 30,\n",
    "    \"Aleena\": ['A', 'A', 'P', 'A', 'P', 'A', 'P', 'A', 'P', 'A',\n",
    "              'A', 'A', 'P', 'A', 'A', 'A', 'P', 'A', 'P', 'A',\n",
    "              'A', 'A', 'P', 'A', 'A', 'A', 'P', 'A', 'A', 'A']\n",
    "}\n",
    "\n",
    "attendance_percentage = {}\n",
    "for employee in attendance_data:\n",
    "    total_present = attendance_data[employee].count('P')\n",
    "    percentage = (total_present / 30) * 100\n",
    "    attendance_percentage[employee] = percentage\n",
    "\n",
    "perfect_attendance = []\n",
    "most_absences_employee = \"\"\n",
    "most_absences = -1\n",
    "\n",
    "for employee, records in attendance_data.items():\n",
    "    absences = records.count('A')\n",
    "    if absences == 0:\n",
    "        perfect_attendance.append(employee)\n",
    "    if absences > most_absences:\n",
    "        most_absences = absences\n",
    "        most_absences_employee = employee\n",
    "\n",
    "print(\"--- ATTENDANCE SUMMARY ---\")\n",
    "print(\"Perfect Attendance:\", perfect_attendance)\n",
    "print(\"Employee with Most Absences:\", most_absences_employee, \"(\", most_absences, \"days )\")\n",
    "print(\"\\nAttendance Percentage for Each Employee:\")\n",
    "for employee, percent in attendance_percentage.items():\n",
    "    print(employee, \":\", round(percent, 2), \"%\")\n"
   ]
  },
  {
   "cell_type": "markdown",
   "id": "1fb1f364-555a-44eb-ad72-769bf4c628e3",
   "metadata": {},
   "source": [
    "# Problem 12 – Fitness Tracker"
   ]
  },
  {
   "cell_type": "markdown",
   "id": "cd462b0e-7485-4a6b-9e5c-94c35386b23c",
   "metadata": {},
   "source": [
    "Design a program to track multiple users’ fitness activities. Calculate total calories burned,\n",
    "average workout time, and display unique activity types.\n",
    "\n",
    "**Demonstration:**\n",
    "1. Store the fitness data in the list of dictionaries.\n",
    "2. Calculate the total calories burned of each user.\n",
    "3. calculate the average workout of the each user.\n",
    "4. find the unique activity types by storing the activity of the fitness_user in the set.\n",
    "5. At the end display the output."
   ]
  },
  {
   "cell_type": "code",
   "execution_count": null,
   "id": "250fab26-ee19-4ab8-88e7-d9c7d345c8f5",
   "metadata": {},
   "outputs": [],
   "source": [
    "fitness_data = [\n",
    "    {\"user\": \"Alice\", \"activity\": \"Running\", \"duration\": 30, \"calories\": 300},\n",
    "    {\"user\": \"Bob\", \"activity\": \"Cycling\", \"duration\": 45, \"calories\": 400},\n",
    "    {\"user\": \"Alice\", \"activity\": \"Yoga\", \"duration\": 60, \"calories\": 200},\n",
    "    {\"user\": \"Charlie\", \"activity\": \"Running\", \"duration\": 20, \"calories\": 220},\n",
    "    {\"user\": \"Bob\", \"activity\": \"Running\", \"duration\": 25, \"calories\": 250},\n",
    "    {\"user\": \"Charlie\", \"activity\": \"Cycling\", \"duration\": 40, \"calories\": 350},\n",
    "]\n",
    "calories_per_user = {}\n",
    "for entry in fitness_data:\n",
    "    user = entry[\"user\"]\n",
    "    calories = entry[\"calories\"]\n",
    "    if user in calories_per_user:\n",
    "        calories_per_user[user] += calories\n",
    "    else:\n",
    "        calories_per_user[user] = calories\n",
    "\n",
    "time_per_user = {}\n",
    "count = {}\n",
    "\n",
    "for entry in fitness_data:\n",
    "    user = entry[\"user\"]\n",
    "    duration = entry[\"duration\"]\n",
    "    \n",
    "    if user in time_per_user:\n",
    "        time_per_user[user] += duration\n",
    "        count[user] += 1\n",
    "    else:\n",
    "        time_per_user[user] = duration\n",
    "        count[user] = 1\n",
    "\n",
    "average_time_per_user = {}\n",
    "for user in time_per_user:\n",
    "    average_time_per_user[user] = time_per_user[user] / count[user]\n",
    "\n",
    "unique_activities = set()\n",
    "for entry in fitness_data:\n",
    "    unique_activities.add(entry[\"activity\"])\n",
    "\n",
    "print(\"--- FITNESS SUMMARY ---\")\n",
    "print(\"\\nTotal Calories Burned Per User:\")\n",
    "for user, calories in calories_per_user.items():\n",
    "    print(user, \":\", calories, \"calories\")\n",
    "\n",
    "print(\"\\nAverage Workout Time Per User:\")\n",
    "for user, avg_time in average_time_per_user.items():\n",
    "    print(user, \":\", round(avg_time, 2), \"minutes\")\n",
    "\n",
    "print(\"\\nUnique Activity Types:\", unique_activities)\n"
   ]
  },
  {
   "cell_type": "markdown",
   "id": "c7428153-75c3-4f68-b34c-7f521c94425c",
   "metadata": {},
   "source": [
    "# Problem 13 – Online Quiz Evaluator"
   ]
  },
  {
   "cell_type": "markdown",
   "id": "065b7fd3-509e-41b0-8396-0dd47901e673",
   "metadata": {},
   "source": [
    "Create a quiz result management system that stores students’ scores and time taken. Find\n",
    "average score, highest scorer, and students who passed a minimum score threshold.\n",
    "\n",
    "**Demonstration:**\n",
    "1. Store the quiz results in the list of the dictionary.\n",
    "2. find the total score and then divide it with lenth of the students.\n",
    "3. find the highest and lowest scorer using loops and if conditions.\n",
    "4. Find minimum score threshold i.e equal or greater than 70%.\n",
    "5. At the end, display the output."
   ]
  },
  {
   "cell_type": "code",
   "execution_count": 20,
   "id": "9f12b334-a59a-428e-a4bc-8757baef8e72",
   "metadata": {},
   "outputs": [
    {
     "name": "stdout",
     "output_type": "stream",
     "text": [
      "--- QUIZ SUMMARY ---\n",
      "Average Score: 80.4\n",
      "Highest Scorer: ahmad with 95 points\n",
      "Lowest Score: Batool with 60 points\n",
      "Students who passed (score >= 70): ['Maryam', 'Ali', 'Fatima', 'ahmad']\n"
     ]
    }
   ],
   "source": [
    "quiz_results = [\n",
    "    {\"student\": \"Maryam\", \"score\": 85, \"time\": 30},\n",
    "    {\"student\": \"Ali\", \"score\": 72, \"time\": 25},\n",
    "    {\"student\": \"Fatima\", \"score\": 90, \"time\": 28},\n",
    "    {\"student\": \"Batool\", \"score\": 60, \"time\": 35},\n",
    "    {\"student\": \"ahmad\", \"score\": 95, \"time\": 27}\n",
    "]\n",
    "\n",
    "total_score = 0\n",
    "for result in quiz_results:\n",
    "    total_score += result[\"score\"]\n",
    "\n",
    "average_score = total_score / len(quiz_results)\n",
    "\n",
    "highest_score = quiz_results[0][\"score\"]\n",
    "top_student = quiz_results[0][\"student\"]\n",
    "for result in quiz_results:\n",
    "    if result[\"score\"] > highest_score:\n",
    "        highest_score = result[\"score\"]\n",
    "        top_student = result[\"student\"]\n",
    "\n",
    "lowest_score = quiz_results[0][\"score\"]\n",
    "bottom_student = quiz_results[0][\"student\"]\n",
    "\n",
    "for result in quiz_results:\n",
    "    if result[\"score\"] < lowest_score:\n",
    "        lowest_score = result[\"score\"]\n",
    "        bottom_student = result[\"student\"]\n",
    "\n",
    "min_pass_score = 70\n",
    "passed_students = []\n",
    "for result in quiz_results:\n",
    "    if result[\"score\"] >= min_pass_score:\n",
    "        passed_students.append(result[\"student\"])\n",
    "\n",
    "print(\"--- QUIZ SUMMARY ---\")\n",
    "print(\"Average Score:\", round(average_score, 2))\n",
    "print(\"Highest Scorer:\", top_student, \"with\", highest_score, \"points\")\n",
    "print(\"Lowest Score:\", bottom_student, \"with\", lowest_score, \"points\")\n",
    "print(\"Students who passed (score >= 70):\", passed_students)"
   ]
  },
  {
   "cell_type": "markdown",
   "id": "718342c3-686a-490b-8ef4-78df707b0871",
   "metadata": {},
   "source": [
    "# Problem 14 – Hotel Booking Management"
   ]
  },
  {
   "cell_type": "markdown",
   "id": "3e3a9fd1-4d83-4201-aabe-d4c6de92a3c7",
   "metadata": {},
   "source": [
    "Write a program to manage hotel room bookings. It should check room availability,\n",
    "calculate total stay cost, and list occupied vs available rooms.\n",
    "\n",
    "**Demonstration:**\n",
    "1. Store the rooms and its cost in the dictionary.\n",
    "2. Also tell the user the occupied rooms.\n",
    "3. Prompt the user to enter room no and number of nights they want to stay.\n",
    "4. Display the msg according to the room availability.\n",
    "5. Now update the occupied rooms."
   ]
  },
  {
   "cell_type": "code",
   "execution_count": 22,
   "id": "17222b8f-0ca7-4354-85fb-d7cf039c74d2",
   "metadata": {},
   "outputs": [
    {
     "name": "stdout",
     "output_type": "stream",
     "text": [
      "Occupied Rooms: [102, 104]\n",
      "Available Rooms:\n",
      "101\n",
      "103\n",
      "105\n"
     ]
    },
    {
     "name": "stdin",
     "output_type": "stream",
     "text": [
      "Enter the room to book:  103\n",
      "How many nights you want to stay:  2\n"
     ]
    },
    {
     "name": "stdout",
     "output_type": "stream",
     "text": [
      "Room 103 booked for 2 nights. Total cost: Rs. 30000\n",
      "Updated Occupied Rooms: [102, 104, 103]\n",
      "Updated Available Rooms:\n",
      "101\n",
      "105\n"
     ]
    }
   ],
   "source": [
    "rooms = {\n",
    "    101: 10000,\n",
    "    102: 12000,\n",
    "    103: 15000,\n",
    "    104: 20000,\n",
    "    105: 25000\n",
    "}\n",
    "\n",
    "occupied_rooms = [102, 104]\n",
    "print(\"Occupied Rooms:\", occupied_rooms)\n",
    "print(\"Available Rooms:\")\n",
    "for room in rooms:\n",
    "    if room not in occupied_rooms:\n",
    "        print(room)\n",
    "\n",
    "room_to_book = int(input(\"Enter the room to book: \")) \n",
    "nights = int(input(\"How many nights you want to stay: \"))      \n",
    "\n",
    "if room_to_book in occupied_rooms:\n",
    "    print(\"Sorry, room\", room_to_book, \"is already booked.\")\n",
    "else:\n",
    "    total_cost = rooms[room_to_book] * nights\n",
    "    print(\"Room\", room_to_book, \"booked for\", nights, \"nights. Total cost: Rs.\", total_cost)\n",
    "    occupied_rooms.append(room_to_book)\n",
    "\n",
    "print(\"Updated Occupied Rooms:\", occupied_rooms)\n",
    "print(\"Updated Available Rooms:\")\n",
    "for room in rooms:\n",
    "    if room not in occupied_rooms:\n",
    "        print(room)\n"
   ]
  },
  {
   "cell_type": "markdown",
   "id": "5583baba-d085-424e-bf98-d7abdd3f76d2",
   "metadata": {},
   "source": [
    "# Problem 15 – Expense & Budget Tracker"
   ]
  },
  {
   "cell_type": "markdown",
   "id": "c44a493e-b86c-465f-acc6-d4b8fcd08aff",
   "metadata": {},
   "source": [
    "Create a financial tracker for daily expenses. Categorize expenses, calculate total per\n",
    "category, check if spending exceeds budget, and find largest expense\n",
    "\n",
    "**Demonstration:**\n",
    "1. Calculate total per category\n",
    "2. Calculate overall spending\n",
    "3. Set a budget\n",
    "4. Check if spending exceeds budget\n",
    "5. Find the largest single expense\n",
    "6. Display results"
   ]
  },
  {
   "cell_type": "code",
   "execution_count": 25,
   "id": "0763897b-a7aa-4591-8389-6856a7cfd65e",
   "metadata": {},
   "outputs": [
    {
     "name": "stdout",
     "output_type": "stream",
     "text": [
      "Spending is within budget. You have $ 45 left.\n",
      "\n",
      "Total per category:\n",
      "Food : 90\n",
      "Transport : 35\n",
      "Entertainment : 30\n",
      "Bills : 100\n",
      "\n",
      "Largest single expense:\n",
      "Category: Bills , Amount: 100\n"
     ]
    }
   ],
   "source": [
    "expenses = [\n",
    "    {\"category\": \"Food\", \"amount\": 50},\n",
    "    {\"category\": \"Transport\", \"amount\": 20},\n",
    "    {\"category\": \"Entertainment\", \"amount\": 30},\n",
    "    {\"category\": \"Food\", \"amount\": 40},\n",
    "    {\"category\": \"Bills\", \"amount\": 100},\n",
    "    {\"category\": \"Transport\", \"amount\": 15}\n",
    "]\n",
    "\n",
    "category_totals = {}\n",
    "for expense in expenses:\n",
    "    cat = expense[\"category\"]\n",
    "    amt = expense[\"amount\"]\n",
    "    if cat in category_totals:\n",
    "        category_totals[cat] += amt\n",
    "    else:\n",
    "        category_totals[cat] = amt\n",
    "\n",
    "total_spending = sum(expense[\"amount\"] for expense in expenses)\n",
    "\n",
    "budget = 300\n",
    "\n",
    "if total_spending > budget:\n",
    "    print(\"Warning: Spending exceeds budget by $\", total_spending - budget)\n",
    "else:\n",
    "    print(\"Spending is within budget. You have $\", budget - total_spending, \"left.\")\n",
    "\n",
    "largest_expense = expenses[0]\n",
    "for expense in expenses:\n",
    "    if expense[\"amount\"] > largest_expense[\"amount\"]:\n",
    "        largest_expense = expense\n",
    "\n",
    "print(\"\\nTotal per category:\")\n",
    "for cat, amt in category_totals.items():\n",
    "    print(cat, \":\", amt)\n",
    "\n",
    "print(\"\\nLargest single expense:\")\n",
    "print(\"Category:\", largest_expense[\"category\"], \", Amount:\", largest_expense[\"amount\"])\n"
   ]
  },
  {
   "cell_type": "markdown",
   "id": "aae87b60-c354-45a3-b430-c3ba19d15077",
   "metadata": {},
   "source": [
    "# Problem 16 – Integrated Real-World System: Smart Business Manager"
   ]
  },
  {
   "cell_type": "markdown",
   "id": "aeaf31c0-b62b-4dd4-bfb6-2fb3d6ec8af8",
   "metadata": {},
   "source": [
    "Develop a 'Smart Business Manager' that combines all data-handling skills.\n",
    "Your program should:\n",
    "\n",
    "• Record business transactions with details like date, type, amount, and category\n",
    "\n",
    "• Maintain all transactions for reporting\n",
    "\n",
    "• Summarize totals by category\n",
    "\n",
    "• Identify the highest expense\n",
    "\n",
    "• Generate a formatted financial summary report\n",
    "\n",
    "• Use modular functions such as add_transaction(), total_summary(), highest_expense(), etc."
   ]
  },
  {
   "cell_type": "code",
   "execution_count": 26,
   "id": "702c6368-a383-4e0e-8aa6-48439c7dc7bf",
   "metadata": {},
   "outputs": [
    {
     "name": "stdout",
     "output_type": "stream",
     "text": [
      "Transaction added: {'date': '2025-10-06', 'type': 'Expense', 'amount': 120, 'category': 'Travel'}\n",
      "Transaction added: {'date': '2025-10-07', 'type': 'Income', 'amount': 700, 'category': 'Sales'}\n",
      "\n",
      "--- FINANCIAL SUMMARY ---\n",
      "Total Transactions: 7\n",
      "\n",
      "Expenses by Category:\n",
      "Office Supplies : 150\n",
      "Marketing : 200\n",
      "Utilities : 300\n",
      "Travel : 120\n",
      "\n",
      "Highest Expense:\n",
      "Date: 2025-10-05 Category: Utilities Amount: 300\n",
      "\n",
      "Total Income: 2200\n",
      "Total Expense: 770\n",
      "Net Profit: 1430\n"
     ]
    }
   ],
   "source": [
    "transactions = [\n",
    "    {\"date\": \"2025-10-01\", \"type\": \"Expense\", \"amount\": 150, \"category\": \"Office Supplies\"},\n",
    "    {\"date\": \"2025-10-02\", \"type\": \"Income\", \"amount\": 1000, \"category\": \"Sales\"},\n",
    "    {\"date\": \"2025-10-03\", \"type\": \"Expense\", \"amount\": 200, \"category\": \"Marketing\"},\n",
    "    {\"date\": \"2025-10-04\", \"type\": \"Income\", \"amount\": 500, \"category\": \"Consulting\"},\n",
    "    {\"date\": \"2025-10-05\", \"type\": \"Expense\", \"amount\": 300, \"category\": \"Utilities\"},\n",
    "]\n",
    "\n",
    "def add_transaction(date, t_type, amount, category):\n",
    "    transaction = {\n",
    "        \"date\": date,\n",
    "        \"type\": t_type,\n",
    "        \"amount\": amount,\n",
    "        \"category\": category\n",
    "    }\n",
    "    transactions.append(transaction)\n",
    "    print(\"Transaction added:\", transaction)\n",
    "\n",
    "def total_summary():\n",
    "    summary = {}\n",
    "    for t in transactions:\n",
    "        cat = t[\"category\"]\n",
    "        amt = t[\"amount\"]\n",
    "        if t[\"type\"] == \"Expense\":  # only sum expenses\n",
    "            if cat in summary:\n",
    "                summary[cat] += amt\n",
    "            else:\n",
    "                summary[cat] = amt\n",
    "    return summary\n",
    "\n",
    "def highest_expense():\n",
    "    highest = None\n",
    "    for t in transactions:\n",
    "        if t[\"type\"] == \"Expense\":\n",
    "            if highest is None or t[\"amount\"] > highest[\"amount\"]:\n",
    "                highest = t\n",
    "    return highest\n",
    "\n",
    "def financial_report():\n",
    "    print(\"\\n--- FINANCIAL SUMMARY ---\")\n",
    "    print(\"Total Transactions:\", len(transactions))\n",
    "    \n",
    "    summary = total_summary()\n",
    "    print(\"\\nExpenses by Category:\")\n",
    "    for cat, amt in summary.items():\n",
    "        print(cat, \":\", amt)\n",
    "    \n",
    "    highest = highest_expense()\n",
    "    if highest:\n",
    "        print(\"\\nHighest Expense:\")\n",
    "        print(\"Date:\", highest[\"date\"], \"Category:\", highest[\"category\"], \"Amount:\", highest[\"amount\"])\n",
    "    \n",
    "    total_income = 0\n",
    "    total_expense = 0\n",
    "    for t in transactions:\n",
    "        if t[\"type\"] == \"Income\":\n",
    "            total_income += t[\"amount\"]\n",
    "        else:\n",
    "            total_expense += t[\"amount\"]\n",
    "    \n",
    "    net_profit = total_income - total_expense\n",
    "    print(\"\\nTotal Income:\", total_income)\n",
    "    print(\"Total Expense:\", total_expense)\n",
    "    print(\"Net Profit:\", net_profit)\n",
    "\n",
    "add_transaction(\"2025-10-06\", \"Expense\", 120, \"Travel\")\n",
    "add_transaction(\"2025-10-07\", \"Income\", 700, \"Sales\")\n",
    "\n",
    "financial_report()"
   ]
  }
 ],
 "metadata": {
  "kernelspec": {
   "display_name": "Python 3 (ipykernel)",
   "language": "python",
   "name": "python3"
  },
  "language_info": {
   "codemirror_mode": {
    "name": "ipython",
    "version": 3
   },
   "file_extension": ".py",
   "mimetype": "text/x-python",
   "name": "python",
   "nbconvert_exporter": "python",
   "pygments_lexer": "ipython3",
   "version": "3.14.0"
  }
 },
 "nbformat": 4,
 "nbformat_minor": 5
}
